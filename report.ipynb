{
 "cells": [
  {
   "attachments": {},
   "cell_type": "markdown",
   "metadata": {},
   "source": [
    "## Decision Analysis Project 1\n",
    "Authors:\n",
    "* Sebastian Chwilczynski 148248\n",
    "* Karol Cyganik 148250\n",
    "\n",
    "### Data set\n",
    "1. What is the domain of the problem about?\n",
    "\n",
    "    Ranking of universities on different criteria\n",
    "2. What is the source of the data? \n",
    "   \n",
    "   [The main source of the data is perspektywy ranking of IT related studies of Polish universities](https://ranking.perspektywy.pl/2022/ranking/ranking-studiow-inzynierskich/informatyka-inz). We selected only these attributes that were relevant to the Decision Maker (gain type). Criteria description can be found [here](https://ranking.perspektywy.pl/2022/article/metodologia-rankingu-kierunkow-studiow-2022r). Additionally we added two cost type criteria: `distance` calculated with google maps and `acceptance threshold` using [this website](https://dostanesie.pl/kierunek/informatyka#perPage=100&page=1&sortBy=%22ThresholdDesc%22). We do not show names of universities but rather we gave them `id` - uppercase letters, so we omit some biases. Location from which we checked the distance was some small village in Poland.\n",
    "3. What is the point of view of the decision maker?\n",
    "    \n",
    "    Our decision maker is a high school graduate - Tom, who wonders which university too chose from. He wants to study Informatics and asked us about advice. His preferences are as follows:\n",
    "    * He wants to be back at home once a month, so the lesser the distance from his hometown the better. However, it is not the most important attribute to him.\n",
    "    * Tom wants to become a researcher and he wants to work in an international research team. So it is quite important to him that university he will study at does a lot of research with foreign scientists. For the same reason citations in TOP10 journals are important to him.\n",
    "    * He doesn't care that much about the ranking given by other professors. Also economics after graduation are not that important to him as he knows exactly what he wants to do and knows expected salary. Moreover economic situation may change since we are in quite unstable situation.\n",
    "    * Tom wants to study with good students around him to work together on projects.\n",
    "    * He did quite well on A-levels but after checking thresholds he is not sure if he will be accepted to all universities in Poland. So he prefers universities with smaller thresholds, but weight is very small.\n",
    "  \n",
    "4. What is the number of alternatives considered? Were there more of them in the original data set?\n",
    "   \n",
    "   We took top 20 universities. In original dataset there were much more.\n",
    "\n",
    "5. Describe one of the alternatives considered (give its name, evaluations, specify preferences for this\n",
    "alternative)\n",
    "\n",
    "    Let it be university `I` which obtained:\n",
    "    * 22.6 points on evaluation by academic staff. Not that important to DM\n",
    "    * 84.9 on economic situation of the graduate. Not that important\n",
    "    * 46.8 score on publications in TOP 10 journals. Not the best score on important one\n",
    "    * 90.4 obtained on quality of accepted students. Very prefferable one.\n",
    "    * 66.2 as a result of the research with foreigner scientists. Not bad.\n",
    "    * 413 distance from hometown. Quite far away actually. Not good\n",
    "    * 0.785 threshold, where maximum is 1. Tom should get there easily.\n",
    "6. What is the number of criteria considered? Were there more of them in the original data set?\n",
    "\n",
    "    We consider 7 criteriaa 5 of which are taken from `perspektywy` ranking, 2 are handmade by use. There are much more criteria in `perspektywy` ranking.\n",
    "7. What is the origin of the various criteria? (catalog parameter / created by the decision maker - how?)\n",
    "    \n",
    "        Already answered at point `2`\n",
    "        \n",
    "8. What are the domains of the individual criteria (discrete / continuous)? Note: in the case of continuous\n",
    "domains, specify the range of the criterion’s variability, in the case of others: list the values. What is\n",
    "the nature (gain / cost) of the individual criteria?\n",
    "    * `WSK ocena p. kadre` continuous [0,100] gain type\n",
    "    * `ekonom. losy absolw.` continuous [0,100] gain type\n",
    "    * `jak. przyj. na studia` continuous [0,100] gain type\n",
    "    * `TOP 10` continuous [0,100] gain type\n",
    "    * `pub. we wspl. zagr.` continuous [0,100] gain type\n",
    "    * `distance` continuous (integers) [56, 580] cost type\n",
    "    * `threshold` continuous [0,1] cost type. Different universities has different range of maximum points so it was obtained by dividing theshold by maximum number of points\n",
    "\n",
    "9. Are all criteria of equal importance (should they have the same ”weights”)? If not, can the relative\n",
    "importance of the criteria under consideration be expressed in terms of weights? In this case, estimate\n",
    "the weights of each criterion on a scale of 1 to 10. Are there any criteria among the criteria that are\n",
    "completely or almost invalid / irrelevant? `No`, every criteria have different weights:\n",
    "   * `WSK ocena p. kadre` 5\n",
    "   * `ekonom. losy absolw.` 5\n",
    "   * `jak. przyj. na studia` 10\n",
    "   * `TOP 10` 7\n",
    "   * `pub. we wspl. zagr.` 7\n",
    "   * `distance` 3\n",
    "   * `threshold` 1\n",
    "  \n",
    "    Every criterion is relevant as we selected them with the help of DM.\n",
    "\n",
    "10. Are there dominated alternatives among the considered data set? If so, present all of them (dominating\n",
    "and dominated alternative), giving their names and values on the individual criteria.\n",
    "\n",
    "    first 5 criteria and threshold are contradicting with one another so there is no dominance relation. Moreover distance is not correlated at all with other values so it also is againts dominance of any alternative\n",
    "\n",
    "11. What should the theoretically best alternative look like in your       opinion? Is it a small advantage on\n",
    "many criteria, or rather a strong advantage on few (but key) criteria? Which?\n",
    "\n",
    "    Best alternative should be very strong in the 3 most important criteria w.r.t weights. Other criteria, probably will decide about the order between the best ones. \n",
    "\n",
    "12.  Which of the considered alternatives (provide name and values on individual criteria) seems to be the\n",
    "best / definitely better than the others? Is it determined by one reason (e.g. definitely the lowest\n",
    "price) or rather the overall value of the criteria? Does this alternative still have any weaknesses?\n",
    "    \n",
    "`M` seems strong with scores:\n",
    "* `WSK ocena p. kadre` 100\n",
    "* `ekonom. losy absolw.` 99.2\n",
    "* `jak. przyj. na studia` 100.0\n",
    "* `TOP 10` 48.9\n",
    "* `pub. we wspl. zagr.` 51.0\n",
    "* `distance` 188\n",
    "* `threshold` 0.965\n",
    "\n",
    "It obtained the best score on the most important attribute. It's not the best in Top 10 and pub. we wspl. zagr. but on the first 2 it is again the best. It is the weakest regarding the threshold but it has small importance.\n",
    "\n",
    "13. Which of the considered alternatives (provide name and values on individual criteria) seems to be the\n",
    "worst / definitely worse than the others? Is it determined by one reason (e.g. definitely the highest\n",
    "price), or rather the overall value of the criteria? Does this alternative still have any strengths?\n",
    "\n",
    "It looks like `U` may be the worst:\n",
    "* `WSK ocena p. kadre` 1.7\n",
    "* `ekonom. losy absolw.` 56.1\n",
    "* `jak. przyj. na studia` 54.8\n",
    "* `TOP 10` 27.0\n",
    "* `pub. we wspl. zagr.` 25.5\n",
    "* `distance` 580\n",
    "* `threshold` 0.39\n",
    "\n",
    "It seems to be very bad in first 5 attributes compared with other universities. Moreover it is so far away. However, the threshold of it is not that bad so from the perspective of person who wrote A levels not that well it may be actually a good choice.\n"
   ]
  },
  {
   "cell_type": "markdown",
   "metadata": {},
   "source": []
  },
  {
   "cell_type": "code",
   "execution_count": 3,
   "metadata": {},
   "outputs": [
    {
     "name": "stdout",
     "output_type": "stream",
     "text": [
      "[['ITA', 'AUT'], ['FRA'], ['SWE'], ['BEL', 'GER']]\n"
     ]
    }
   ],
   "source": [
    "from mcda.promethee import PrometheI, PrometheII\n",
    "import numpy as np\n",
    "\n",
    "alternatives = np.array(\n",
    "        [\n",
    "            [98, 8, 400],\n",
    "            [58, 0, 800],\n",
    "            [66, 5, 1000],\n",
    "            [74, 3, 600],\n",
    "            [80, 7, 200],\n",
    "            [82, 10, 600],\n",
    "        ]\n",
    "    )\n",
    "alternatives_names = [\"ITA\", \"BEL\", \"GER\", \"SWE\", \"AUT\", \"FRA\"]\n",
    "\n",
    "thresholds = {\n",
    "        \"q\": np.array([0, 0, 100]),\n",
    "        \"p\": np.array([0, 2, 300])\n",
    "}\n",
    "\n",
    "preference_types = np.array([1, 1, -1])  # 1 for gain and -1 for cost\n",
    "weights = np.array([3, 2, 5])\n",
    "solver = PrometheI()\n",
    "print(solver.solve(alternatives, preference_types,\n",
    "                       thresholds, weights, alternatives_names))"
   ]
  },
  {
   "cell_type": "code",
   "execution_count": 4,
   "metadata": {},
   "outputs": [
    {
     "name": "stdout",
     "output_type": "stream",
     "text": [
      "['ITA', 'AUT', 'FRA', 'SWE', 'GER', 'BEL']\n"
     ]
    }
   ],
   "source": [
    "solver = PrometheII()\n",
    "print(solver.solve(alternatives, preference_types,\n",
    "                       thresholds, weights, alternatives_names))"
   ]
  },
  {
   "cell_type": "code",
   "execution_count": 5,
   "metadata": {},
   "outputs": [
    {
     "name": "stdout",
     "output_type": "stream",
     "text": [
      "[3 1 3 2 1 2 2 1]\n",
      "[3 2 3 2 1 2 2 2]\n"
     ]
    }
   ],
   "source": [
    "from mcda.electretrib import ElectreTriB\n",
    "alternatives = np.array(\n",
    "    [\n",
    "        [90, 86, 46, 30],\n",
    "        [40, 90, 14, 48],\n",
    "        [94, 100, 40, 36],\n",
    "        [78, 76, 30, 50],\n",
    "        [60, 60, 30, 30],\n",
    "        [64, 72, 12, 46],\n",
    "        [62, 88, 22, 48],\n",
    "        [70, 30, 12, 12],\n",
    "    ]\n",
    ")\n",
    "\n",
    "profiles = np.array(\n",
    "    [\n",
    "        [64, 61, 32, 32],\n",
    "        [86, 84, 43, 43],\n",
    "    ]\n",
    ")\n",
    "\n",
    "thresholds = {\n",
    "    \"q\": np.array(\n",
    "        [\n",
    "            [2, 2, 0, 0],\n",
    "            [3, 2, 0, 0]\n",
    "        ]),\n",
    "    \"p\": np.array(\n",
    "        [\n",
    "            [6, 5, 2, 2],\n",
    "            [7, 8, 2, 2]\n",
    "        ]),\n",
    "    \"v\": np.array([\n",
    "        [20, 24, np.nan, np.nan],\n",
    "        [20, 25, np.nan, np.nan]\n",
    "    ])\n",
    "}\n",
    "\n",
    "preference_types = np.array([1, 1, 1, 1])  # 1 for gain and -1 for cost\n",
    "weights = np.array([0.4, 0.3, 0.25, 0.05])\n",
    "cred_th = 0.65\n",
    "solver = ElectreTriB()\n",
    "print(solver.solve(alternatives, preference_types,\n",
    "                   thresholds, profiles, weights, cred_th, \"pessimistic\"))\n",
    "\n",
    "print(solver.solve(alternatives, preference_types,\n",
    "                   thresholds, profiles, weights, cred_th, \"optimistic\"))\n"
   ]
  },
  {
   "cell_type": "code",
   "execution_count": 6,
   "metadata": {},
   "outputs": [
    {
     "name": "stdout",
     "output_type": "stream",
     "text": [
      "[0.36363636 0.29818182 0.16727273 0.13454545 0.03636364]\n"
     ]
    }
   ],
   "source": [
    "\n",
    "from mcda.srf import SRF\n",
    "srf = SRF()\n",
    "srf.solve(10, 5, [2, 0, 3, 1])\n"
   ]
  }
 ],
 "metadata": {
  "kernelspec": {
   "display_name": "Python 3",
   "language": "python",
   "name": "python3"
  },
  "language_info": {
   "codemirror_mode": {
    "name": "ipython",
    "version": 3
   },
   "file_extension": ".py",
   "mimetype": "text/x-python",
   "name": "python",
   "nbconvert_exporter": "python",
   "pygments_lexer": "ipython3",
   "version": "3.10.10"
  },
  "orig_nbformat": 4
 },
 "nbformat": 4,
 "nbformat_minor": 2
}
