{
 "cells": [
  {
   "cell_type": "markdown",
   "metadata": {},
   "source": [
    "## Examples of use "
   ]
  },
  {
   "cell_type": "code",
   "execution_count": 1,
   "metadata": {},
   "outputs": [
    {
     "name": "stdout",
     "output_type": "stream",
     "text": [
      "[['ITA', 'AUT'], ['FRA'], ['SWE'], ['BEL', 'GER']]\n"
     ]
    }
   ],
   "source": [
    "from mcda.promethee import PrometheI, PrometheII\n",
    "import numpy as np\n",
    "\n",
    "alternatives = np.array(\n",
    "        [\n",
    "            [98, 8, 400],\n",
    "            [58, 0, 800],\n",
    "            [66, 5, 1000],\n",
    "            [74, 3, 600],\n",
    "            [80, 7, 200],\n",
    "            [82, 10, 600],\n",
    "        ]\n",
    "    )\n",
    "alternatives_names = [\"ITA\", \"BEL\", \"GER\", \"SWE\", \"AUT\", \"FRA\"]\n",
    "\n",
    "thresholds = {\n",
    "        \"q\": np.array([0, 0, 100]),\n",
    "        \"p\": np.array([0, 2, 300])\n",
    "}\n",
    "\n",
    "preference_types = np.array([1, 1, -1])  # 1 for gain and -1 for cost\n",
    "weights = np.array([3, 2, 5])\n",
    "solver = PrometheI()\n",
    "print(solver.solve(alternatives, preference_types,\n",
    "                       thresholds, weights, alternatives_names))"
   ]
  },
  {
   "cell_type": "code",
   "execution_count": 2,
   "metadata": {},
   "outputs": [
    {
     "name": "stdout",
     "output_type": "stream",
     "text": [
      "['ITA', 'AUT', 'FRA', 'SWE', 'GER', 'BEL']\n"
     ]
    }
   ],
   "source": [
    "solver = PrometheII()\n",
    "print(solver.solve(alternatives, preference_types,\n",
    "                       thresholds, weights, alternatives_names))"
   ]
  },
  {
   "cell_type": "code",
   "execution_count": 3,
   "metadata": {},
   "outputs": [
    {
     "name": "stdout",
     "output_type": "stream",
     "text": [
      "[3 1 3 2 1 2 2 1]\n",
      "[3 2 3 2 1 2 2 2]\n"
     ]
    }
   ],
   "source": [
    "from mcda.electretrib import ElectreTriB\n",
    "alternatives = np.array(\n",
    "    [\n",
    "        [90, 86, 46, 30],\n",
    "        [40, 90, 14, 48],\n",
    "        [94, 100, 40, 36],\n",
    "        [78, 76, 30, 50],\n",
    "        [60, 60, 30, 30],\n",
    "        [64, 72, 12, 46],\n",
    "        [62, 88, 22, 48],\n",
    "        [70, 30, 12, 12],\n",
    "    ]\n",
    ")\n",
    "\n",
    "profiles = np.array(\n",
    "    [\n",
    "        [64, 61, 32, 32],\n",
    "        [86, 84, 43, 43],\n",
    "    ]\n",
    ")\n",
    "\n",
    "thresholds = {\n",
    "    \"q\": np.array(\n",
    "        [\n",
    "            [2, 2, 0, 0],\n",
    "            [3, 2, 0, 0]\n",
    "        ]),\n",
    "    \"p\": np.array(\n",
    "        [\n",
    "            [6, 5, 2, 2],\n",
    "            [7, 8, 2, 2]\n",
    "        ]),\n",
    "    \"v\": np.array([\n",
    "        [20, 24, np.nan, np.nan],\n",
    "        [20, 25, np.nan, np.nan]\n",
    "    ])\n",
    "}\n",
    "\n",
    "preference_types = np.array([1, 1, 1, 1])  # 1 for gain and -1 for cost\n",
    "weights = np.array([0.4, 0.3, 0.25, 0.05])\n",
    "cred_th = 0.65\n",
    "solver = ElectreTriB()\n",
    "print(solver.solve(alternatives, preference_types,\n",
    "                   thresholds, profiles, weights, cred_th, \"pessimistic\"))\n",
    "\n",
    "print(solver.solve(alternatives, preference_types,\n",
    "                   thresholds, profiles, weights, cred_th, \"optimistic\"))\n"
   ]
  },
  {
   "cell_type": "code",
   "execution_count": 4,
   "metadata": {},
   "outputs": [
    {
     "name": "stdout",
     "output_type": "stream",
     "text": [
      "[0.36363636 0.29818182 0.16727273 0.13454545 0.03636364]\n"
     ]
    }
   ],
   "source": [
    "\n",
    "from mcda.srf import SRF\n",
    "srf = SRF()\n",
    "srf.solve(10, 5, [2, 0, 3, 1])\n"
   ]
  },
  {
   "attachments": {},
   "cell_type": "markdown",
   "metadata": {},
   "source": [
    "## Data"
   ]
  },
  {
   "cell_type": "code",
   "execution_count": 9,
   "metadata": {},
   "outputs": [
    {
     "data": {
      "text/html": [
       "<div>\n",
       "<style scoped>\n",
       "    .dataframe tbody tr th:only-of-type {\n",
       "        vertical-align: middle;\n",
       "    }\n",
       "\n",
       "    .dataframe tbody tr th {\n",
       "        vertical-align: top;\n",
       "    }\n",
       "\n",
       "    .dataframe thead th {\n",
       "        text-align: right;\n",
       "    }\n",
       "</style>\n",
       "<table border=\"1\" class=\"dataframe\">\n",
       "  <thead>\n",
       "    <tr style=\"text-align: right;\">\n",
       "      <th></th>\n",
       "      <th>WSK_ocena_p._kadre</th>\n",
       "      <th>ekonom._losy_absolw.</th>\n",
       "      <th>jak._przyj._na_studia</th>\n",
       "      <th>TOP_10</th>\n",
       "      <th>pub._we_wspl._zagr.</th>\n",
       "      <th>distance</th>\n",
       "      <th>progi</th>\n",
       "    </tr>\n",
       "    <tr>\n",
       "      <th>id</th>\n",
       "      <th></th>\n",
       "      <th></th>\n",
       "      <th></th>\n",
       "      <th></th>\n",
       "      <th></th>\n",
       "      <th></th>\n",
       "      <th></th>\n",
       "    </tr>\n",
       "  </thead>\n",
       "  <tbody>\n",
       "    <tr>\n",
       "      <th>B</th>\n",
       "      <td>34.0</td>\n",
       "      <td>78.2</td>\n",
       "      <td>78.2</td>\n",
       "      <td>63.8</td>\n",
       "      <td>51.0</td>\n",
       "      <td>309</td>\n",
       "      <td>0.7835</td>\n",
       "    </tr>\n",
       "    <tr>\n",
       "      <th>C</th>\n",
       "      <td>0.8</td>\n",
       "      <td>50.8</td>\n",
       "      <td>56.1</td>\n",
       "      <td>44.7</td>\n",
       "      <td>43.7</td>\n",
       "      <td>132</td>\n",
       "      <td>0.7000</td>\n",
       "    </tr>\n",
       "    <tr>\n",
       "      <th>D</th>\n",
       "      <td>3.0</td>\n",
       "      <td>64.7</td>\n",
       "      <td>74.1</td>\n",
       "      <td>7.1</td>\n",
       "      <td>53.6</td>\n",
       "      <td>188</td>\n",
       "      <td>0.7000</td>\n",
       "    </tr>\n",
       "    <tr>\n",
       "      <th>E</th>\n",
       "      <td>1.7</td>\n",
       "      <td>74.6</td>\n",
       "      <td>63.2</td>\n",
       "      <td>8.5</td>\n",
       "      <td>17.6</td>\n",
       "      <td>188</td>\n",
       "      <td>0.6800</td>\n",
       "    </tr>\n",
       "    <tr>\n",
       "      <th>H</th>\n",
       "      <td>6.5</td>\n",
       "      <td>51.3</td>\n",
       "      <td>61.6</td>\n",
       "      <td>55.3</td>\n",
       "      <td>29.4</td>\n",
       "      <td>375</td>\n",
       "      <td>0.3300</td>\n",
       "    </tr>\n",
       "  </tbody>\n",
       "</table>\n",
       "</div>"
      ],
      "text/plain": [
       "    WSK_ocena_p._kadre  ekonom._losy_absolw.  jak._przyj._na_studia  TOP_10  \\\n",
       "id                                                                            \n",
       "B                 34.0                  78.2                   78.2    63.8   \n",
       "C                  0.8                  50.8                   56.1    44.7   \n",
       "D                  3.0                  64.7                   74.1     7.1   \n",
       "E                  1.7                  74.6                   63.2     8.5   \n",
       "H                  6.5                  51.3                   61.6    55.3   \n",
       "\n",
       "    pub._we_wspl._zagr.  distance   progi  \n",
       "id                                         \n",
       "B                  51.0       309  0.7835  \n",
       "C                  43.7       132  0.7000  \n",
       "D                  53.6       188  0.7000  \n",
       "E                  17.6       188  0.6800  \n",
       "H                  29.4       375  0.3300  "
      ]
     },
     "execution_count": 9,
     "metadata": {},
     "output_type": "execute_result"
    }
   ],
   "source": [
    "import pandas as pd\n",
    "\n",
    "data = pd.read_csv(\"universities_final.csv\", index_col=0)\n",
    "data.head()"
   ]
  },
  {
   "cell_type": "code",
   "execution_count": 10,
   "metadata": {},
   "outputs": [
    {
     "data": {
      "application/vnd.jupyter.widget-view+json": {
       "model_id": "087a07606fb9420cbce338855475aa04",
       "version_major": 2,
       "version_minor": 0
      },
      "text/plain": [
       "Summarize dataset:   0%|          | 0/5 [00:00<?, ?it/s]"
      ]
     },
     "metadata": {},
     "output_type": "display_data"
    },
    {
     "data": {
      "application/vnd.jupyter.widget-view+json": {
       "model_id": "b75efcac0b384060a10e2c7a2ab816fd",
       "version_major": 2,
       "version_minor": 0
      },
      "text/plain": [
       "Generate report structure:   0%|          | 0/1 [00:00<?, ?it/s]"
      ]
     },
     "metadata": {},
     "output_type": "display_data"
    },
    {
     "data": {
      "application/vnd.jupyter.widget-view+json": {
       "model_id": "42687f735a64482faacad0eea08ad042",
       "version_major": 2,
       "version_minor": 0
      },
      "text/plain": [
       "Render widgets:   0%|          | 0/1 [00:00<?, ?it/s]"
      ]
     },
     "metadata": {},
     "output_type": "display_data"
    },
    {
     "data": {
      "application/vnd.jupyter.widget-view+json": {
       "model_id": "207be2c15ab34e9aa5dbebb21e5f1a84",
       "version_major": 2,
       "version_minor": 0
      },
      "text/plain": [
       "VBox(children=(Tab(children=(Tab(children=(GridBox(children=(VBox(children=(GridspecLayout(children=(HTML(valu…"
      ]
     },
     "metadata": {},
     "output_type": "display_data"
    }
   ],
   "source": [
    "from ydata_profiling import ProfileReport\n",
    "\n",
    "profile = ProfileReport(data, title=\"Pandas Profiling Report\")\n",
    "profile.to_widgets()"
   ]
  },
  {
   "cell_type": "code",
   "execution_count": 12,
   "metadata": {},
   "outputs": [
    {
     "name": "stdout",
     "output_type": "stream",
     "text": [
      "[[3.40e+01 7.82e+01 7.82e+01 6.38e+01 5.10e+01 3.09e+02 7.80e-01]\n",
      " [8.00e-01 5.08e+01 5.61e+01 4.47e+01 4.37e+01 1.32e+02 7.00e-01]\n",
      " [3.00e+00 6.47e+01 7.41e+01 7.10e+00 5.36e+01 1.88e+02 7.00e-01]\n",
      " [1.70e+00 7.46e+01 6.32e+01 8.50e+00 1.76e+01 1.88e+02 6.80e-01]\n",
      " [6.50e+00 5.13e+01 6.16e+01 5.53e+01 2.94e+01 3.75e+02 3.30e-01]\n",
      " [2.26e+01 8.49e+01 9.04e+01 4.68e+01 6.62e+01 4.13e+02 7.80e-01]\n",
      " [4.80e+00 7.24e+01 7.36e+01 5.25e+01 5.82e+01 1.66e+02 7.80e-01]\n",
      " [7.00e-01 5.38e+01 5.55e+01 4.47e+01 6.35e+01 3.73e+02 6.00e-01]\n",
      " [7.80e+00 4.23e+01 4.67e+01 1.00e+02 7.72e+01 5.60e+01 6.20e-01]\n",
      " [1.00e+02 9.92e+01 1.00e+02 4.89e+01 5.10e+01 1.88e+02 9.60e-01]\n",
      " [5.40e+01 7.96e+01 7.98e+01 5.18e+01 4.90e+01 1.81e+02 8.60e-01]\n",
      " [1.20e+00 8.44e+01 7.28e+01 6.45e+01 4.66e+01 9.80e+01 7.00e-01]\n",
      " [1.66e+01 6.37e+01 6.99e+01 4.26e+01 3.98e+01 1.47e+02 6.50e-01]\n",
      " [0.00e+00 7.23e+01 5.18e+01 3.97e+01 6.62e+01 2.99e+02 3.50e-01]\n",
      " [4.10e+00 4.73e+01 6.31e+01 1.70e+01 1.00e+02 3.55e+02 8.20e-01]\n",
      " [1.70e+00 5.61e+01 5.48e+01 2.70e+01 2.55e+01 5.80e+02 3.90e-01]\n",
      " [1.00e+00 4.23e+01 5.09e+01 5.96e+01 6.73e+01 5.12e+02 5.70e-01]\n",
      " [3.00e-01 5.71e+01 6.58e+01 3.90e+01 3.54e+01 4.00e+02 6.40e-01]\n",
      " [7.45e+01 1.00e+02 8.94e+01 6.24e+01 4.92e+01 1.66e+02 9.70e-01]\n",
      " [3.31e+01 7.45e+01 5.99e+01 5.96e+01 4.77e+01 1.88e+02 4.00e-01]]\n"
     ]
    }
   ],
   "source": [
    "alternatives = data.to_numpy().astype(float).round(2)\n",
    "print(alternatives)"
   ]
  },
  {
   "cell_type": "code",
   "execution_count": 14,
   "metadata": {},
   "outputs": [
    {
     "name": "stdout",
     "output_type": "stream",
     "text": [
      "['B', 'C', 'D', 'E', 'H', 'I', 'J', 'K', 'L', 'M', 'N', 'P', 'Q', 'R', 'T', 'U', 'V', 'W', 'Y', 'Z']\n"
     ]
    }
   ],
   "source": [
    "alternatives_names = data.index.to_list()\n",
    "print(alternatives_names)"
   ]
  },
  {
   "cell_type": "code",
   "execution_count": 16,
   "metadata": {},
   "outputs": [
    {
     "name": "stdout",
     "output_type": "stream",
     "text": [
      "[['Y'], ['M'], ['B'], ['P'], ['N'], ['Z'], ['L'], ['I'], ['J'], ['Q'], ['D', 'H'], ['R'], ['V'], ['K'], ['E'], ['T'], ['C'], ['W'], ['U']]\n"
     ]
    }
   ],
   "source": [
    "thresholds = {\n",
    "        \"q\": np.array([0, 0, 0, 0, 0, 0, 0]),\n",
    "        \"p\": np.array([0, 0, 0, 0, 0, 0, 0])\n",
    "}\n",
    "\n",
    "preference_types = np.array([1, 1, 1, 1, 1, -1, -1])  # 1 for gain and -1 for cost\n",
    "weights = np.array([1, 1, 1, 1, 1, 1, 1])\n",
    "solver = PrometheI()\n",
    "print(solver.solve(alternatives, preference_types,\n",
    "                       thresholds, weights, alternatives_names))"
   ]
  },
  {
   "cell_type": "code",
   "execution_count": null,
   "metadata": {},
   "outputs": [],
   "source": []
  }
 ],
 "metadata": {
  "kernelspec": {
   "display_name": "Python 3",
   "language": "python",
   "name": "python3"
  },
  "language_info": {
   "codemirror_mode": {
    "name": "ipython",
    "version": 3
   },
   "file_extension": ".py",
   "mimetype": "text/x-python",
   "name": "python",
   "nbconvert_exporter": "python",
   "pygments_lexer": "ipython3",
   "version": "3.10.10"
  },
  "orig_nbformat": 4
 },
 "nbformat": 4,
 "nbformat_minor": 2
}
